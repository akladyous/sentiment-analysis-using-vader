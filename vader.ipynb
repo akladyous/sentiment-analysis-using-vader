{
 "cells": [
  {
   "cell_type": "markdown",
   "id": "ba467cc3-df3f-4e39-aaa7-57b6dafaf1db",
   "metadata": {},
   "source": [
    "## Import Libraries"
   ]
  },
  {
   "cell_type": "code",
   "execution_count": 55,
   "id": "0b2eb9ed-a010-4285-a156-1ed36c1e5fb2",
   "metadata": {},
   "outputs": [
    {
     "name": "stderr",
     "output_type": "stream",
     "text": [
      "[nltk_data] Downloading package stopwords to /Users/boula/nltk_data...\n",
      "[nltk_data]   Package stopwords is already up-to-date!\n",
      "[nltk_data] Downloading package vader_lexicon to\n",
      "[nltk_data]     /Users/boula/nltk_data...\n",
      "[nltk_data]   Package vader_lexicon is already up-to-date!\n",
      "[nltk_data] Downloading package punkt to /Users/boula/nltk_data...\n",
      "[nltk_data]   Package punkt is already up-to-date!\n"
     ]
    },
    {
     "data": {
      "text/plain": [
       "True"
      ]
     },
     "execution_count": 55,
     "metadata": {},
     "output_type": "execute_result"
    }
   ],
   "source": [
    "import pandas as pd\n",
    "import nltk\n",
    "from nltk.corpus import stopwords\n",
    "from nltk.probability import FreqDist\n",
    "from nltk.tokenize import sent_tokenize, RegexpTokenizer\n",
    "from nltk.sentiment.vader import SentimentIntensityAnalyzer\n",
    "nltk.download('stopwords')\n",
    "nltk.download('vader_lexicon')\n",
    "nltk.download('punkt')"
   ]
  },
  {
   "cell_type": "markdown",
   "id": "a762e5fd-f052-4b27-963b-7404161892b2",
   "metadata": {},
   "source": [
    "## Data Collection\n",
    "\n",
    "The dataset comes from CrowdFlower via data.world (IMDB Sentiment Sampled) at the following link:\n",
    "\n",
    "https://data.world/robbertb/imdb-sentiment-sampled"
   ]
  },
  {
   "cell_type": "code",
   "execution_count": 147,
   "id": "dd4640c6-2c26-412d-bf0f-cb0f6b2d784d",
   "metadata": {},
   "outputs": [],
   "source": [
    "df = pd.read_csv('imdb_sentiment.csv')"
   ]
  },
  {
   "cell_type": "code",
   "execution_count": 148,
   "id": "94bdc9d6-fc5c-481d-9a4e-cdd9662611ad",
   "metadata": {},
   "outputs": [
    {
     "data": {
      "text/html": [
       "<div>\n",
       "<style scoped>\n",
       "    .dataframe tbody tr th:only-of-type {\n",
       "        vertical-align: middle;\n",
       "    }\n",
       "\n",
       "    .dataframe tbody tr th {\n",
       "        vertical-align: top;\n",
       "    }\n",
       "\n",
       "    .dataframe thead th {\n",
       "        text-align: right;\n",
       "    }\n",
       "</style>\n",
       "<table border=\"1\" class=\"dataframe\">\n",
       "  <thead>\n",
       "    <tr style=\"text-align: right;\">\n",
       "      <th></th>\n",
       "      <th>review</th>\n",
       "    </tr>\n",
       "  </thead>\n",
       "  <tbody>\n",
       "    <tr>\n",
       "      <th>0</th>\n",
       "      <td>Protocol is an implausible movie whose only sa...</td>\n",
       "    </tr>\n",
       "    <tr>\n",
       "      <th>1</th>\n",
       "      <td>I just watched The Dresser this evening, havin...</td>\n",
       "    </tr>\n",
       "    <tr>\n",
       "      <th>2</th>\n",
       "      <td>Besides being boring, the scenes were oppressi...</td>\n",
       "    </tr>\n",
       "    <tr>\n",
       "      <th>3</th>\n",
       "      <td>I'm not sure why the producers needed to trade...</td>\n",
       "    </tr>\n",
       "    <tr>\n",
       "      <th>4</th>\n",
       "      <td>Honestly - this short film sucks. the dummy us...</td>\n",
       "    </tr>\n",
       "  </tbody>\n",
       "</table>\n",
       "</div>"
      ],
      "text/plain": [
       "                                              review\n",
       "0  Protocol is an implausible movie whose only sa...\n",
       "1  I just watched The Dresser this evening, havin...\n",
       "2  Besides being boring, the scenes were oppressi...\n",
       "3  I'm not sure why the producers needed to trade...\n",
       "4  Honestly - this short film sucks. the dummy us..."
      ]
     },
     "execution_count": 148,
     "metadata": {},
     "output_type": "execute_result"
    }
   ],
   "source": [
    "df.head()"
   ]
  },
  {
   "cell_type": "markdown",
   "id": "9bb6594b-5507-45e3-9112-3ede91b02cef",
   "metadata": {},
   "source": [
    "## Preprocessing\n",
    "\n",
    "We start by preparing our data by cleaning and tokenizing the articles text"
   ]
  },
  {
   "cell_type": "code",
   "execution_count": 149,
   "id": "4a9d2a9a-d9da-4f65-8b44-17ee159ee58e",
   "metadata": {},
   "outputs": [],
   "source": [
    "df['review'] = df['review'].apply(lambda txt: txt.lower())"
   ]
  },
  {
   "cell_type": "code",
   "execution_count": 150,
   "id": "3aa7fd4a-9e51-492e-8a5c-d3eb7bb7e8a8",
   "metadata": {},
   "outputs": [],
   "source": [
    "stop_words=stopwords.words('english')\n",
    "df['review'] = df['review'].apply(lambda txt: ' '.join([word for word in txt.split() if word not in stop_words]))"
   ]
  },
  {
   "cell_type": "code",
   "execution_count": 151,
   "id": "0fa1e0d4-df9d-4d4c-8c31-dc84b4537340",
   "metadata": {},
   "outputs": [],
   "source": [
    "df['review'] = df['review'].apply(lambda txt: sent_tokenize(txt))"
   ]
  },
  {
   "cell_type": "code",
   "execution_count": 153,
   "id": "1ab42e73-37a3-4524-9d2a-6f3cb85526a2",
   "metadata": {},
   "outputs": [],
   "source": [
    "df['review'] = df['review'].apply(lambda txt: ' '.join(txt))"
   ]
  },
  {
   "cell_type": "markdown",
   "id": "5770e4de-8e44-4d28-aeca-02e120441d02",
   "metadata": {},
   "source": [
    "## Polarity Score"
   ]
  },
  {
   "cell_type": "code",
   "execution_count": 155,
   "id": "bccdef47-8d13-4c7c-a32b-d9c8496fcd3a",
   "metadata": {},
   "outputs": [],
   "source": [
    "sid = SentimentIntensityAnalyzer()"
   ]
  },
  {
   "cell_type": "code",
   "execution_count": 156,
   "id": "66dd2bc9-75e6-4a3c-ad20-7e5bc34c0e95",
   "metadata": {},
   "outputs": [],
   "source": [
    "df['score'] = df['review'].apply(lambda txt: sid.polarity_scores(txt))"
   ]
  },
  {
   "cell_type": "code",
   "execution_count": 160,
   "id": "ec2619a6-c66b-4930-92c4-aa105edaa742",
   "metadata": {},
   "outputs": [
    {
     "data": {
      "text/plain": [
       "{'neg': 0.0, 'neu': 0.653, 'pos': 0.347, 'compound': 0.9565}"
      ]
     },
     "execution_count": 160,
     "metadata": {},
     "output_type": "execute_result"
    }
   ],
   "source": [
    "df['score'][0]"
   ]
  },
  {
   "cell_type": "code",
   "execution_count": 162,
   "id": "4e2edbcd-a868-46a7-903a-9166dd238b70",
   "metadata": {},
   "outputs": [
    {
     "data": {
      "text/html": [
       "<div>\n",
       "<style scoped>\n",
       "    .dataframe tbody tr th:only-of-type {\n",
       "        vertical-align: middle;\n",
       "    }\n",
       "\n",
       "    .dataframe tbody tr th {\n",
       "        vertical-align: top;\n",
       "    }\n",
       "\n",
       "    .dataframe thead th {\n",
       "        text-align: right;\n",
       "    }\n",
       "</style>\n",
       "<table border=\"1\" class=\"dataframe\">\n",
       "  <thead>\n",
       "    <tr style=\"text-align: right;\">\n",
       "      <th></th>\n",
       "      <th>review</th>\n",
       "      <th>score</th>\n",
       "    </tr>\n",
       "  </thead>\n",
       "  <tbody>\n",
       "    <tr>\n",
       "      <th>0</th>\n",
       "      <td>protocol implausible movie whose saving grace ...</td>\n",
       "      <td>{'neg': 0.0, 'neu': 0.653, 'pos': 0.347, 'comp...</td>\n",
       "    </tr>\n",
       "    <tr>\n",
       "      <th>1</th>\n",
       "      <td>watched dresser evening, seen before, dozen ye...</td>\n",
       "      <td>{'neg': 0.09, 'neu': 0.691, 'pos': 0.219, 'com...</td>\n",
       "    </tr>\n",
       "    <tr>\n",
       "      <th>2</th>\n",
       "      <td>besides boring, scenes oppressive dark. movie ...</td>\n",
       "      <td>{'neg': 0.164, 'neu': 0.654, 'pos': 0.182, 'co...</td>\n",
       "    </tr>\n",
       "    <tr>\n",
       "      <th>3</th>\n",
       "      <td>i'm sure producers needed trade name somewhat ...</td>\n",
       "      <td>{'neg': 0.0, 'neu': 0.808, 'pos': 0.192, 'comp...</td>\n",
       "    </tr>\n",
       "    <tr>\n",
       "      <th>4</th>\n",
       "      <td>honestly - short film sucks. dummy used necro ...</td>\n",
       "      <td>{'neg': 0.106, 'neu': 0.608, 'pos': 0.286, 'co...</td>\n",
       "    </tr>\n",
       "  </tbody>\n",
       "</table>\n",
       "</div>"
      ],
      "text/plain": [
       "                                              review  \\\n",
       "0  protocol implausible movie whose saving grace ...   \n",
       "1  watched dresser evening, seen before, dozen ye...   \n",
       "2  besides boring, scenes oppressive dark. movie ...   \n",
       "3  i'm sure producers needed trade name somewhat ...   \n",
       "4  honestly - short film sucks. dummy used necro ...   \n",
       "\n",
       "                                               score  \n",
       "0  {'neg': 0.0, 'neu': 0.653, 'pos': 0.347, 'comp...  \n",
       "1  {'neg': 0.09, 'neu': 0.691, 'pos': 0.219, 'com...  \n",
       "2  {'neg': 0.164, 'neu': 0.654, 'pos': 0.182, 'co...  \n",
       "3  {'neg': 0.0, 'neu': 0.808, 'pos': 0.192, 'comp...  \n",
       "4  {'neg': 0.106, 'neu': 0.608, 'pos': 0.286, 'co...  "
      ]
     },
     "execution_count": 162,
     "metadata": {},
     "output_type": "execute_result"
    }
   ],
   "source": [
    "df.head()"
   ]
  },
  {
   "cell_type": "code",
   "execution_count": 163,
   "id": "2ef5dfee-390a-4d70-9178-772b3c5695ae",
   "metadata": {},
   "outputs": [],
   "source": [
    "df['negative'] = df['score'].apply(lambda txt: txt['neg'])"
   ]
  },
  {
   "cell_type": "code",
   "execution_count": 164,
   "id": "071a3479-8b85-41a7-81b1-c4e927f0341d",
   "metadata": {},
   "outputs": [],
   "source": [
    "df['neutral'] = df['score'].apply(lambda txt: txt['neu'])"
   ]
  },
  {
   "cell_type": "code",
   "execution_count": 165,
   "id": "e7b7f2bb-447f-4e2b-a769-d2e82f3426d9",
   "metadata": {},
   "outputs": [],
   "source": [
    "df['positive'] = df['score'].apply(lambda txt: txt['pos'])"
   ]
  },
  {
   "cell_type": "code",
   "execution_count": 166,
   "id": "d59b7cd3-99a8-406a-b44e-f7c14b8fe24d",
   "metadata": {},
   "outputs": [],
   "source": [
    "df['compound'] = df['score'].apply(lambda txt: txt['compound'])"
   ]
  },
  {
   "cell_type": "code",
   "execution_count": 167,
   "id": "534cf1a1-c6d6-4901-a4cb-b0976b528995",
   "metadata": {},
   "outputs": [
    {
     "data": {
      "text/html": [
       "<div>\n",
       "<style scoped>\n",
       "    .dataframe tbody tr th:only-of-type {\n",
       "        vertical-align: middle;\n",
       "    }\n",
       "\n",
       "    .dataframe tbody tr th {\n",
       "        vertical-align: top;\n",
       "    }\n",
       "\n",
       "    .dataframe thead th {\n",
       "        text-align: right;\n",
       "    }\n",
       "</style>\n",
       "<table border=\"1\" class=\"dataframe\">\n",
       "  <thead>\n",
       "    <tr style=\"text-align: right;\">\n",
       "      <th></th>\n",
       "      <th>review</th>\n",
       "      <th>score</th>\n",
       "      <th>negative</th>\n",
       "      <th>neutral</th>\n",
       "      <th>positive</th>\n",
       "      <th>compound</th>\n",
       "    </tr>\n",
       "  </thead>\n",
       "  <tbody>\n",
       "    <tr>\n",
       "      <th>0</th>\n",
       "      <td>protocol implausible movie whose saving grace ...</td>\n",
       "      <td>{'neg': 0.0, 'neu': 0.653, 'pos': 0.347, 'comp...</td>\n",
       "      <td>0.000</td>\n",
       "      <td>0.653</td>\n",
       "      <td>0.347</td>\n",
       "      <td>0.9565</td>\n",
       "    </tr>\n",
       "    <tr>\n",
       "      <th>1</th>\n",
       "      <td>watched dresser evening, seen before, dozen ye...</td>\n",
       "      <td>{'neg': 0.09, 'neu': 0.691, 'pos': 0.219, 'com...</td>\n",
       "      <td>0.090</td>\n",
       "      <td>0.691</td>\n",
       "      <td>0.219</td>\n",
       "      <td>0.9895</td>\n",
       "    </tr>\n",
       "    <tr>\n",
       "      <th>2</th>\n",
       "      <td>besides boring, scenes oppressive dark. movie ...</td>\n",
       "      <td>{'neg': 0.164, 'neu': 0.654, 'pos': 0.182, 'co...</td>\n",
       "      <td>0.164</td>\n",
       "      <td>0.654</td>\n",
       "      <td>0.182</td>\n",
       "      <td>0.1431</td>\n",
       "    </tr>\n",
       "    <tr>\n",
       "      <th>3</th>\n",
       "      <td>i'm sure producers needed trade name somewhat ...</td>\n",
       "      <td>{'neg': 0.0, 'neu': 0.808, 'pos': 0.192, 'comp...</td>\n",
       "      <td>0.000</td>\n",
       "      <td>0.808</td>\n",
       "      <td>0.192</td>\n",
       "      <td>0.9690</td>\n",
       "    </tr>\n",
       "    <tr>\n",
       "      <th>4</th>\n",
       "      <td>honestly - short film sucks. dummy used necro ...</td>\n",
       "      <td>{'neg': 0.106, 'neu': 0.608, 'pos': 0.286, 'co...</td>\n",
       "      <td>0.106</td>\n",
       "      <td>0.608</td>\n",
       "      <td>0.286</td>\n",
       "      <td>0.9834</td>\n",
       "    </tr>\n",
       "  </tbody>\n",
       "</table>\n",
       "</div>"
      ],
      "text/plain": [
       "                                              review  \\\n",
       "0  protocol implausible movie whose saving grace ...   \n",
       "1  watched dresser evening, seen before, dozen ye...   \n",
       "2  besides boring, scenes oppressive dark. movie ...   \n",
       "3  i'm sure producers needed trade name somewhat ...   \n",
       "4  honestly - short film sucks. dummy used necro ...   \n",
       "\n",
       "                                               score  negative  neutral  \\\n",
       "0  {'neg': 0.0, 'neu': 0.653, 'pos': 0.347, 'comp...     0.000    0.653   \n",
       "1  {'neg': 0.09, 'neu': 0.691, 'pos': 0.219, 'com...     0.090    0.691   \n",
       "2  {'neg': 0.164, 'neu': 0.654, 'pos': 0.182, 'co...     0.164    0.654   \n",
       "3  {'neg': 0.0, 'neu': 0.808, 'pos': 0.192, 'comp...     0.000    0.808   \n",
       "4  {'neg': 0.106, 'neu': 0.608, 'pos': 0.286, 'co...     0.106    0.608   \n",
       "\n",
       "   positive  compound  \n",
       "0     0.347    0.9565  \n",
       "1     0.219    0.9895  \n",
       "2     0.182    0.1431  \n",
       "3     0.192    0.9690  \n",
       "4     0.286    0.9834  "
      ]
     },
     "execution_count": 167,
     "metadata": {},
     "output_type": "execute_result"
    }
   ],
   "source": [
    "df.head()"
   ]
  },
  {
   "cell_type": "code",
   "execution_count": 169,
   "id": "f534c63d-d267-41f6-a822-54380909dccc",
   "metadata": {},
   "outputs": [],
   "source": [
    "def polarity_score(compound):\n",
    "    if compound > 0.05:\n",
    "        return \"positive\"\n",
    "    elif compound < -0.5:\n",
    "        return \"negative\"\n",
    "    elif compound >= -0.05 and compound < 0.05:\n",
    "        return \"neutral\""
   ]
  },
  {
   "cell_type": "code",
   "execution_count": 170,
   "id": "4e84e078-e4bb-4f84-9240-930ec0cfb359",
   "metadata": {},
   "outputs": [],
   "source": [
    "df['sentiment'] = df['compound'].apply(lambda val: polarity_score(val))"
   ]
  },
  {
   "cell_type": "code",
   "execution_count": 172,
   "id": "4b79181b-22bd-41f4-bbd3-6f0e9d7b384f",
   "metadata": {},
   "outputs": [
    {
     "data": {
      "text/html": [
       "<div>\n",
       "<style scoped>\n",
       "    .dataframe tbody tr th:only-of-type {\n",
       "        vertical-align: middle;\n",
       "    }\n",
       "\n",
       "    .dataframe tbody tr th {\n",
       "        vertical-align: top;\n",
       "    }\n",
       "\n",
       "    .dataframe thead th {\n",
       "        text-align: right;\n",
       "    }\n",
       "</style>\n",
       "<table border=\"1\" class=\"dataframe\">\n",
       "  <thead>\n",
       "    <tr style=\"text-align: right;\">\n",
       "      <th></th>\n",
       "      <th>review</th>\n",
       "      <th>score</th>\n",
       "      <th>negative</th>\n",
       "      <th>neutral</th>\n",
       "      <th>positive</th>\n",
       "      <th>compound</th>\n",
       "      <th>sentiment</th>\n",
       "    </tr>\n",
       "  </thead>\n",
       "  <tbody>\n",
       "    <tr>\n",
       "      <th>0</th>\n",
       "      <td>protocol implausible movie whose saving grace ...</td>\n",
       "      <td>{'neg': 0.0, 'neu': 0.653, 'pos': 0.347, 'comp...</td>\n",
       "      <td>0.000</td>\n",
       "      <td>0.653</td>\n",
       "      <td>0.347</td>\n",
       "      <td>0.9565</td>\n",
       "      <td>positive</td>\n",
       "    </tr>\n",
       "    <tr>\n",
       "      <th>1</th>\n",
       "      <td>watched dresser evening, seen before, dozen ye...</td>\n",
       "      <td>{'neg': 0.09, 'neu': 0.691, 'pos': 0.219, 'com...</td>\n",
       "      <td>0.090</td>\n",
       "      <td>0.691</td>\n",
       "      <td>0.219</td>\n",
       "      <td>0.9895</td>\n",
       "      <td>positive</td>\n",
       "    </tr>\n",
       "    <tr>\n",
       "      <th>2</th>\n",
       "      <td>besides boring, scenes oppressive dark. movie ...</td>\n",
       "      <td>{'neg': 0.164, 'neu': 0.654, 'pos': 0.182, 'co...</td>\n",
       "      <td>0.164</td>\n",
       "      <td>0.654</td>\n",
       "      <td>0.182</td>\n",
       "      <td>0.1431</td>\n",
       "      <td>positive</td>\n",
       "    </tr>\n",
       "    <tr>\n",
       "      <th>3</th>\n",
       "      <td>i'm sure producers needed trade name somewhat ...</td>\n",
       "      <td>{'neg': 0.0, 'neu': 0.808, 'pos': 0.192, 'comp...</td>\n",
       "      <td>0.000</td>\n",
       "      <td>0.808</td>\n",
       "      <td>0.192</td>\n",
       "      <td>0.9690</td>\n",
       "      <td>positive</td>\n",
       "    </tr>\n",
       "    <tr>\n",
       "      <th>4</th>\n",
       "      <td>honestly - short film sucks. dummy used necro ...</td>\n",
       "      <td>{'neg': 0.106, 'neu': 0.608, 'pos': 0.286, 'co...</td>\n",
       "      <td>0.106</td>\n",
       "      <td>0.608</td>\n",
       "      <td>0.286</td>\n",
       "      <td>0.9834</td>\n",
       "      <td>positive</td>\n",
       "    </tr>\n",
       "  </tbody>\n",
       "</table>\n",
       "</div>"
      ],
      "text/plain": [
       "                                              review  \\\n",
       "0  protocol implausible movie whose saving grace ...   \n",
       "1  watched dresser evening, seen before, dozen ye...   \n",
       "2  besides boring, scenes oppressive dark. movie ...   \n",
       "3  i'm sure producers needed trade name somewhat ...   \n",
       "4  honestly - short film sucks. dummy used necro ...   \n",
       "\n",
       "                                               score  negative  neutral  \\\n",
       "0  {'neg': 0.0, 'neu': 0.653, 'pos': 0.347, 'comp...     0.000    0.653   \n",
       "1  {'neg': 0.09, 'neu': 0.691, 'pos': 0.219, 'com...     0.090    0.691   \n",
       "2  {'neg': 0.164, 'neu': 0.654, 'pos': 0.182, 'co...     0.164    0.654   \n",
       "3  {'neg': 0.0, 'neu': 0.808, 'pos': 0.192, 'comp...     0.000    0.808   \n",
       "4  {'neg': 0.106, 'neu': 0.608, 'pos': 0.286, 'co...     0.106    0.608   \n",
       "\n",
       "   positive  compound sentiment  \n",
       "0     0.347    0.9565  positive  \n",
       "1     0.219    0.9895  positive  \n",
       "2     0.182    0.1431  positive  \n",
       "3     0.192    0.9690  positive  \n",
       "4     0.286    0.9834  positive  "
      ]
     },
     "execution_count": 172,
     "metadata": {},
     "output_type": "execute_result"
    }
   ],
   "source": [
    "df.head()"
   ]
  },
  {
   "cell_type": "code",
   "execution_count": 177,
   "id": "34fcb50c-aab2-441f-b390-ee113c6552d0",
   "metadata": {},
   "outputs": [
    {
     "data": {
      "text/plain": [
       "positive    694\n",
       "negative    258\n",
       "neutral       6\n",
       "Name: sentiment, dtype: int64"
      ]
     },
     "execution_count": 177,
     "metadata": {},
     "output_type": "execute_result"
    }
   ],
   "source": [
    "df['sentiment'].value_counts()"
   ]
  },
  {
   "cell_type": "markdown",
   "id": "bc795a4b-8ca7-4407-b9fe-3cdc8754db62",
   "metadata": {},
   "source": [
    "## Conclusion\n",
    "\n",
    "VADER classifies the sentiments very well. It is easy to use, the ready-made model which can be used across multiple domains, social-media texts."
   ]
  }
 ],
 "metadata": {
  "kernelspec": {
   "display_name": "Python 3",
   "language": "python",
   "name": "python3"
  },
  "language_info": {
   "codemirror_mode": {
    "name": "ipython",
    "version": 3
   },
   "file_extension": ".py",
   "mimetype": "text/x-python",
   "name": "python",
   "nbconvert_exporter": "python",
   "pygments_lexer": "ipython3",
   "version": "3.9.4"
  }
 },
 "nbformat": 4,
 "nbformat_minor": 5
}
